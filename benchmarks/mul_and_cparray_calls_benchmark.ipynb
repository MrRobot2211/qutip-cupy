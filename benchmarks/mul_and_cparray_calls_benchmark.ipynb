{
 "cells": [
  {
   "cell_type": "markdown",
   "id": "474235df",
   "metadata": {},
   "source": [
    "# This notebbooks benchmarks matrix multiplications at different precisions with subsequent calls to cp.array.\n",
    "\n",
    "# The Hardware used is a 1080 Ti GPU connected to a PCIe 3/8x lane"
   ]
  },
  {
   "cell_type": "code",
   "execution_count": 17,
   "id": "2fa00292",
   "metadata": {},
   "outputs": [],
   "source": [
    "import cupy as cp"
   ]
  },
  {
   "cell_type": "code",
   "execution_count": 18,
   "id": "1433d530",
   "metadata": {},
   "outputs": [],
   "source": [
    "cp.cuda.Device(2).use()"
   ]
  },
  {
   "cell_type": "code",
   "execution_count": null,
   "id": "d63c5875",
   "metadata": {},
   "outputs": [],
   "source": []
  },
  {
   "cell_type": "code",
   "execution_count": 19,
   "id": "2f8a91fd",
   "metadata": {},
   "outputs": [],
   "source": [
    "def mult_asarr(x1,x2):\n",
    "    x3 = cp.asarray(x1@x2)\n",
    "    return x3\n",
    "\n",
    "def mult(x1,x2):\n",
    "    x3 = x1@x2\n",
    "    return x3\n",
    "\n",
    "def mult_arr(x1,x2):\n",
    "    x3 = cp.array(x1@x2,copy=True)\n",
    "    return x3\n",
    "\n",
    "def mult_arr_nc(x1,x2):\n",
    "    x3 = cp.array(x1@x2,copy=False)\n",
    "    return x3\n"
   ]
  },
  {
   "cell_type": "code",
   "execution_count": null,
   "id": "c388dbcc",
   "metadata": {},
   "outputs": [],
   "source": []
  },
  {
   "cell_type": "code",
   "execution_count": 20,
   "id": "fd71b59b",
   "metadata": {},
   "outputs": [],
   "source": [
    "import numpy as np"
   ]
  },
  {
   "cell_type": "markdown",
   "id": "c231fcfa",
   "metadata": {},
   "source": [
    "# Double Complex benchmarks"
   ]
  },
  {
   "cell_type": "code",
   "execution_count": 21,
   "id": "680f91bd",
   "metadata": {},
   "outputs": [],
   "source": [
    "x1 = cp.array(np.random.uniform(size=2000*2000) + 1.j *np.random.uniform(size=2000*2000), dtype=cp.complex128).reshape(2000, 2000)\n",
    "x2 = cp.array(np.random.uniform(size=2000*2000) + 1.j *np.random.uniform(size=2000*2000), dtype=cp.complex128).reshape(2000, 2000)"
   ]
  },
  {
   "cell_type": "code",
   "execution_count": 22,
   "id": "367302a7",
   "metadata": {},
   "outputs": [
    {
     "name": "stdout",
     "output_type": "stream",
     "text": [
      "The slowest run took 2225.38 times longer than the fastest. This could mean that an intermediate result is being cached.\n",
      "80 ms ± 80.1 ms per loop (mean ± std. dev. of 10 runs, 100 loops each)\n"
     ]
    }
   ],
   "source": [
    "%%timeit -n 100 -r 10\n",
    "x3 = x1@x2"
   ]
  },
  {
   "cell_type": "code",
   "execution_count": 23,
   "id": "9a54cc77",
   "metadata": {},
   "outputs": [
    {
     "name": "stdout",
     "output_type": "stream",
     "text": [
      "The slowest run took 8718.64 times longer than the fastest. This could mean that an intermediate result is being cached.\n",
      "195 ms ± 227 ms per loop (mean ± std. dev. of 10 runs, 100 loops each)\n"
     ]
    }
   ],
   "source": [
    "%%timeit -n 100 -r 10\n",
    "x3 = cp.array(x1@x2,copy=True)"
   ]
  },
  {
   "cell_type": "code",
   "execution_count": null,
   "id": "b1bc58c6",
   "metadata": {},
   "outputs": [],
   "source": []
  },
  {
   "cell_type": "code",
   "execution_count": null,
   "id": "8d6871a0",
   "metadata": {},
   "outputs": [],
   "source": []
  },
  {
   "cell_type": "code",
   "execution_count": 24,
   "id": "f5b4dc10",
   "metadata": {},
   "outputs": [],
   "source": [
    "from cupyx.time import repeat\n",
    "\n"
   ]
  },
  {
   "cell_type": "code",
   "execution_count": 25,
   "id": "1f866292",
   "metadata": {},
   "outputs": [
    {
     "name": "stdout",
     "output_type": "stream",
     "text": [
      "mult                :    CPU:  116.431 us   +/-36.022 (min:   84.350 / max:  253.268) us     GPU-2:166508.626 us   +/-66.168 (min:166389.725 / max:166788.101) us\n"
     ]
    }
   ],
   "source": [
    "print(repeat(mult, (x1,x2), n_repeat=100,n_warmup=30)) "
   ]
  },
  {
   "cell_type": "code",
   "execution_count": 26,
   "id": "e66dd411",
   "metadata": {},
   "outputs": [
    {
     "name": "stdout",
     "output_type": "stream",
     "text": [
      "mult_asarr          :    CPU:  179.477 us   +/-66.521 (min:   90.359 / max:  372.948) us     GPU-2:166558.448 us   +/-65.667 (min:166420.486 / max:166797.318) us\n"
     ]
    }
   ],
   "source": [
    "print(repeat(mult_asarr, (x1,x2), n_repeat=100,n_warmup=30)) "
   ]
  },
  {
   "cell_type": "code",
   "execution_count": 27,
   "id": "8ce6adfc",
   "metadata": {},
   "outputs": [
    {
     "name": "stdout",
     "output_type": "stream",
     "text": [
      "mult_arr            :    CPU:  180.583 us   +/-67.698 (min:  109.039 / max:  352.937) us     GPU-2:166913.096 us   +/-64.060 (min:166813.477 / max:167102.432) us\n"
     ]
    }
   ],
   "source": [
    "print(repeat(mult_arr, (x1,x2), n_repeat=100,n_warmup=30)) "
   ]
  },
  {
   "cell_type": "code",
   "execution_count": 28,
   "id": "c7d0e516",
   "metadata": {},
   "outputs": [
    {
     "name": "stdout",
     "output_type": "stream",
     "text": [
      "mult_arr_nc         :    CPU:  141.459 us   +/-51.971 (min:   89.989 / max:  253.288) us     GPU-2:166563.221 us   +/-73.784 (min:166426.620 / max:166861.816) us\n"
     ]
    }
   ],
   "source": [
    "print(repeat(mult_arr_nc, (x1,x2), n_repeat=100,n_warmup=30)) "
   ]
  },
  {
   "cell_type": "code",
   "execution_count": null,
   "id": "664e1ae5",
   "metadata": {},
   "outputs": [],
   "source": []
  },
  {
   "cell_type": "code",
   "execution_count": 130,
   "id": "c49aad30",
   "metadata": {},
   "outputs": [
    {
     "name": "stdout",
     "output_type": "stream",
     "text": [
      "The slowest run took 2078.32 times longer than the fastest. This could mean that an intermediate result is being cached.\n",
      "82.1 ms ± 82.2 ms per loop (mean ± std. dev. of 10 runs, 100 loops each)\n"
     ]
    }
   ],
   "source": [
    "%%timeit -n 100 -r 10\n",
    "mult(x1,x2);"
   ]
  },
  {
   "cell_type": "code",
   "execution_count": 131,
   "id": "7438dfcc",
   "metadata": {},
   "outputs": [
    {
     "name": "stdout",
     "output_type": "stream",
     "text": [
      "197 ms ± 37.4 ms per loop (mean ± std. dev. of 10 runs, 100 loops each)\n"
     ]
    }
   ],
   "source": [
    "%%timeit -n 100 -r 10\n",
    "mult_arr(x1,x2);"
   ]
  },
  {
   "cell_type": "code",
   "execution_count": 132,
   "id": "331f9333",
   "metadata": {},
   "outputs": [
    {
     "name": "stdout",
     "output_type": "stream",
     "text": [
      "139 ms ± 27.3 ms per loop (mean ± std. dev. of 10 runs, 100 loops each)\n"
     ]
    }
   ],
   "source": [
    "%%timeit -n 100 -r 10\n",
    "mult_asarr(x1,x2);"
   ]
  },
  {
   "cell_type": "code",
   "execution_count": null,
   "id": "ddeca3b9",
   "metadata": {},
   "outputs": [],
   "source": []
  },
  {
   "cell_type": "markdown",
   "id": "6f0a701b",
   "metadata": {},
   "source": [
    "# Single Complex Benchmarks"
   ]
  },
  {
   "cell_type": "code",
   "execution_count": null,
   "id": "5d7f1139",
   "metadata": {},
   "outputs": [],
   "source": []
  },
  {
   "cell_type": "code",
   "execution_count": 35,
   "id": "10089fe7",
   "metadata": {},
   "outputs": [],
   "source": [
    "x1 = cp.array(np.random.uniform(size=2000*2000) + 1.j *np.random.uniform(size=2000*2000), dtype=cp.complex64).reshape(2000, 2000)\n",
    "x2 = cp.array(np.random.uniform(size=2000*2000) + 1.j *np.random.uniform(size=2000*2000), dtype=cp.complex64).reshape(2000, 2000)"
   ]
  },
  {
   "cell_type": "code",
   "execution_count": 36,
   "id": "13011a40",
   "metadata": {},
   "outputs": [],
   "source": [
    "from cupyx.time import repeat\n",
    "\n"
   ]
  },
  {
   "cell_type": "code",
   "execution_count": 37,
   "id": "18c34c0b",
   "metadata": {},
   "outputs": [
    {
     "name": "stdout",
     "output_type": "stream",
     "text": [
      "mult                :    CPU:   96.657 us   +/-33.156 (min:   78.560 / max:  250.238) us     GPU-2: 6136.612 us   +/-96.065 (min: 5981.184 / max: 6447.104) us\n"
     ]
    }
   ],
   "source": [
    "print(repeat(mult, (x1,x2), n_repeat=100,n_warmup=30)) "
   ]
  },
  {
   "cell_type": "code",
   "execution_count": 38,
   "id": "0ea8d599",
   "metadata": {},
   "outputs": [
    {
     "name": "stdout",
     "output_type": "stream",
     "text": [
      "mult_asarr          :    CPU:   89.201 us   +/-19.072 (min:   81.540 / max:  241.718) us     GPU-2: 6121.749 us   +/-40.298 (min: 6022.144 / max: 6293.504) us\n"
     ]
    }
   ],
   "source": [
    "print(repeat(mult_asarr, (x1,x2), n_repeat=100,n_warmup=30)) "
   ]
  },
  {
   "cell_type": "code",
   "execution_count": 39,
   "id": "2124a120",
   "metadata": {},
   "outputs": [
    {
     "name": "stdout",
     "output_type": "stream",
     "text": [
      "mult_arr            :    CPU:  113.073 us   +/-30.773 (min:  100.930 / max:  309.508) us     GPU-2: 6294.140 us   +/-40.418 (min: 6181.888 / max: 6409.216) us\n"
     ]
    }
   ],
   "source": [
    "print(repeat(mult_arr, (x1,x2), n_repeat=100,n_warmup=30)) "
   ]
  },
  {
   "cell_type": "code",
   "execution_count": 40,
   "id": "e8b7d248",
   "metadata": {},
   "outputs": [
    {
     "name": "stdout",
     "output_type": "stream",
     "text": [
      "mult_arr_nc         :    CPU:   86.710 us   +/-17.326 (min:   81.820 / max:  248.969) us     GPU-2: 6151.248 us   +/-27.968 (min: 6041.600 / max: 6301.696) us\n"
     ]
    }
   ],
   "source": [
    "print(repeat(mult_arr_nc, (x1,x2), n_repeat=100,n_warmup=30)) "
   ]
  },
  {
   "cell_type": "code",
   "execution_count": null,
   "id": "11d4b6c6",
   "metadata": {},
   "outputs": [],
   "source": []
  },
  {
   "cell_type": "code",
   "execution_count": null,
   "id": "44e7f856",
   "metadata": {},
   "outputs": [],
   "source": []
  },
  {
   "cell_type": "markdown",
   "id": "936dd61f",
   "metadata": {},
   "source": [
    "# Double Benchmarks"
   ]
  },
  {
   "cell_type": "code",
   "execution_count": 41,
   "id": "d6181ab5",
   "metadata": {},
   "outputs": [],
   "source": [
    "x1 = cp.arange(2000*2000, dtype=cp.float64).reshape(2000, 2000)\n",
    "x2 = cp.arange(2000*2000, dtype=cp.float64).reshape(2000, 2000)"
   ]
  },
  {
   "cell_type": "code",
   "execution_count": 42,
   "id": "56275f81",
   "metadata": {},
   "outputs": [
    {
     "name": "stdout",
     "output_type": "stream",
     "text": [
      "The slowest run took 595.32 times longer than the fastest. This could mean that an intermediate result is being cached.\n",
      "30 ms ± 20.3 ms per loop (mean ± std. dev. of 10 runs, 100 loops each)\n"
     ]
    }
   ],
   "source": [
    "%%timeit -n 100 -r 10\n",
    "x3 = x1@x2"
   ]
  },
  {
   "cell_type": "code",
   "execution_count": 43,
   "id": "83caebfe",
   "metadata": {},
   "outputs": [
    {
     "name": "stdout",
     "output_type": "stream",
     "text": [
      "The slowest run took 1581.77 times longer than the fastest. This could mean that an intermediate result is being cached.\n",
      "49.7 ms ± 38.4 ms per loop (mean ± std. dev. of 10 runs, 100 loops each)\n"
     ]
    }
   ],
   "source": [
    "%%timeit -n 100 -r 10\n",
    "x3 = cp.array(x1@x2)"
   ]
  },
  {
   "cell_type": "code",
   "execution_count": null,
   "id": "5c01f5a5",
   "metadata": {},
   "outputs": [],
   "source": []
  },
  {
   "cell_type": "code",
   "execution_count": 44,
   "id": "045f4090",
   "metadata": {},
   "outputs": [
    {
     "name": "stdout",
     "output_type": "stream",
     "text": [
      "mult                :    CPU:  102.837 us   +/-31.784 (min:   82.109 / max:  248.529) us     GPU-2:45816.684 us   +/-35.946 (min:45784.065 / max:46047.039) us\n"
     ]
    }
   ],
   "source": [
    "print(repeat(mult, (x1,x2), n_repeat=100,n_warmup=30)) "
   ]
  },
  {
   "cell_type": "code",
   "execution_count": 45,
   "id": "c07db4a4",
   "metadata": {},
   "outputs": [
    {
     "name": "stdout",
     "output_type": "stream",
     "text": [
      "mult_asarr          :    CPU:   97.622 us   +/-21.741 (min:   83.730 / max:  249.818) us     GPU-2:45809.086 us   +/-18.976 (min:45784.065 / max:45946.880) us\n"
     ]
    }
   ],
   "source": [
    "print(repeat(mult_asarr, (x1,x2), n_repeat=100,n_warmup=30)) "
   ]
  },
  {
   "cell_type": "code",
   "execution_count": 46,
   "id": "3a9a289c",
   "metadata": {},
   "outputs": [
    {
     "name": "stdout",
     "output_type": "stream",
     "text": [
      "mult_arr            :    CPU:  117.513 us   +/-32.771 (min:  104.140 / max:  344.598) us     GPU-2:45974.173 us   +/-23.601 (min:45954.048 / max:46135.296) us\n"
     ]
    }
   ],
   "source": [
    "print(repeat(mult_arr, (x1,x2), n_repeat=100,n_warmup=30)) "
   ]
  },
  {
   "cell_type": "code",
   "execution_count": 47,
   "id": "bf2615d3",
   "metadata": {},
   "outputs": [
    {
     "name": "stdout",
     "output_type": "stream",
     "text": [
      "mult_arr_nc         :    CPU:   91.245 us   +/-17.941 (min:   83.300 / max:  244.238) us     GPU-2:45801.933 us   +/-15.540 (min:45784.065 / max:45935.616) us\n"
     ]
    }
   ],
   "source": [
    "print(repeat(mult_arr_nc, (x1,x2), n_repeat=100,n_warmup=30)) "
   ]
  },
  {
   "cell_type": "code",
   "execution_count": null,
   "id": "9fc980bd",
   "metadata": {},
   "outputs": [],
   "source": []
  },
  {
   "cell_type": "code",
   "execution_count": null,
   "id": "a085f636",
   "metadata": {},
   "outputs": [],
   "source": []
  },
  {
   "cell_type": "code",
   "execution_count": null,
   "id": "7ee6c732",
   "metadata": {},
   "outputs": [],
   "source": []
  },
  {
   "cell_type": "markdown",
   "id": "3627405a",
   "metadata": {},
   "source": [
    "# Single Benchmarks"
   ]
  },
  {
   "cell_type": "code",
   "execution_count": 48,
   "id": "e1310df7",
   "metadata": {},
   "outputs": [],
   "source": [
    "x1 = cp.arange(2000*2000, dtype=cp.float32).reshape(2000, 2000)\n",
    "x2 = cp.arange(2000*2000, dtype=cp.float32).reshape(2000, 2000)"
   ]
  },
  {
   "cell_type": "code",
   "execution_count": null,
   "id": "a3d9d991",
   "metadata": {},
   "outputs": [],
   "source": []
  },
  {
   "cell_type": "code",
   "execution_count": 49,
   "id": "41345ba5",
   "metadata": {},
   "outputs": [
    {
     "name": "stdout",
     "output_type": "stream",
     "text": [
      "mult                :    CPU:   84.947 us   +/-10.653 (min:   77.920 / max:  131.269) us     GPU-2: 1739.193 us   +/-12.112 (min: 1718.272 / max: 1769.472) us\n"
     ]
    }
   ],
   "source": [
    "print(repeat(mult, (x1,x2), n_repeat=100,n_warmup=30)) "
   ]
  },
  {
   "cell_type": "code",
   "execution_count": 50,
   "id": "58dfa1c1",
   "metadata": {},
   "outputs": [
    {
     "name": "stdout",
     "output_type": "stream",
     "text": [
      "mult_asarr          :    CPU:   84.086 us   +/- 4.582 (min:   80.399 / max:  121.170) us     GPU-2: 1729.584 us   +/- 4.898 (min: 1722.240 / max: 1762.208) us\n"
     ]
    }
   ],
   "source": [
    "print(repeat(mult_asarr, (x1,x2), n_repeat=100,n_warmup=30)) "
   ]
  },
  {
   "cell_type": "code",
   "execution_count": 51,
   "id": "c8a3a5a6",
   "metadata": {},
   "outputs": [
    {
     "name": "stdout",
     "output_type": "stream",
     "text": [
      "mult_arr            :    CPU:  105.760 us   +/- 4.220 (min:  101.959 / max:  138.680) us     GPU-2: 1814.397 us   +/- 4.001 (min: 1807.360 / max: 1832.960) us\n"
     ]
    }
   ],
   "source": [
    "print(repeat(mult_arr, (x1,x2), n_repeat=100,n_warmup=30)) "
   ]
  },
  {
   "cell_type": "code",
   "execution_count": 52,
   "id": "3c9a8f96",
   "metadata": {},
   "outputs": [
    {
     "name": "stdout",
     "output_type": "stream",
     "text": [
      "mult_arr_nc         :    CPU:   86.511 us   +/-14.318 (min:   81.090 / max:  204.599) us     GPU-2: 1740.374 us   +/-13.098 (min: 1724.416 / max: 1830.656) us\n"
     ]
    }
   ],
   "source": [
    "print(repeat(mult_arr_nc, (x1,x2), n_repeat=100,n_warmup=30)) "
   ]
  },
  {
   "cell_type": "code",
   "execution_count": null,
   "id": "b3eff64b",
   "metadata": {},
   "outputs": [],
   "source": []
  },
  {
   "cell_type": "code",
   "execution_count": null,
   "id": "00f4910c",
   "metadata": {},
   "outputs": [],
   "source": []
  },
  {
   "cell_type": "code",
   "execution_count": null,
   "id": "d417cf30",
   "metadata": {},
   "outputs": [],
   "source": []
  }
 ],
 "metadata": {
  "kernelspec": {
   "display_name": "cupy_toolkit_10_1",
   "language": "python",
   "name": "cupy_toolkit_10_1"
  },
  "language_info": {
   "codemirror_mode": {
    "name": "ipython",
    "version": 3
   },
   "file_extension": ".py",
   "mimetype": "text/x-python",
   "name": "python",
   "nbconvert_exporter": "python",
   "pygments_lexer": "ipython3",
   "version": "3.7.10"
  }
 },
 "nbformat": 4,
 "nbformat_minor": 5
}
